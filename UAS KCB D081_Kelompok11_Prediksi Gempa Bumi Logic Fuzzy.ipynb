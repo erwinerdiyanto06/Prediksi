{
 "cells": [
  {
   "cell_type": "code",
   "execution_count": 1,
   "id": "82d62068",
   "metadata": {},
   "outputs": [],
   "source": [
    "import numpy as np\n",
    "import skfuzzy as fuzz\n",
    "from skfuzzy import control as ctrl\n"
   ]
  },
  {
   "cell_type": "code",
   "execution_count": 2,
   "id": "eafabc92",
   "metadata": {},
   "outputs": [],
   "source": [
    "# Membuat variabel linguistik\n",
    "magnitudo = ctrl.Antecedent(np.arange(0, 11, 1), 'magnitudo')\n",
    "jarak_episenter = ctrl.Antecedent(np.arange(0, 101, 1), 'jarak_episenter')\n",
    "kekuatan_gempa = ctrl.Consequent(np.arange(0, 101, 1), 'kekuatan_gempa')"
   ]
  },
  {
   "cell_type": "code",
   "execution_count": 4,
   "id": "73871f13",
   "metadata": {},
   "outputs": [],
   "source": [
    "# Membership functions untuk variabel-variabel linguistik\n",
    "magnitudo['kecil'] = fuzz.trimf(magnitudo.universe, [0, 0, 5])\n",
    "magnitudo['sedang'] = fuzz.trimf(magnitudo.universe, [0, 5, 10])\n",
    "magnitudo['besar'] = fuzz.trimf(magnitudo.universe, [5, 10, 10])\n",
    "\n",
    "jarak_episenter['dekat'] = fuzz.trimf(jarak_episenter.universe, [0, 0, 50])\n",
    "jarak_episenter['sedang'] = fuzz.trimf(jarak_episenter.universe, [0, 50, 100])\n",
    "jarak_episenter['jauh'] = fuzz.trimf(jarak_episenter.universe, [50, 100, 100])\n",
    "\n",
    "kekuatan_gempa['lemah'] = fuzz.trimf(kekuatan_gempa.universe, [0, 0, 50])\n",
    "kekuatan_gempa['kuat'] = fuzz.trimf(kekuatan_gempa.universe, [0, 50, 100])\n",
    "kekuatan_gempa['sangat_kuat'] = fuzz.trimf(kekuatan_gempa.universe, [50, 100, 100])"
   ]
  },
  {
   "cell_type": "code",
   "execution_count": 5,
   "id": "b459ca89",
   "metadata": {},
   "outputs": [],
   "source": [
    "# Membuat aturan fuzzy\n",
    "rule1 = ctrl.Rule(magnitudo['kecil'] & jarak_episenter['dekat'], kekuatan_gempa['lemah'])\n",
    "rule2 = ctrl.Rule(magnitudo['kecil'] & jarak_episenter['sedang'], kekuatan_gempa['kuat'])\n",
    "rule3 = ctrl.Rule(magnitudo['kecil'] & jarak_episenter['jauh'], kekuatan_gempa['sangat_kuat'])\n",
    "rule4 = ctrl.Rule(magnitudo['sedang'] & jarak_episenter['dekat'], kekuatan_gempa['kuat'])\n",
    "rule5 = ctrl.Rule(magnitudo['sedang'] & jarak_episenter['sedang'], kekuatan_gempa['kuat'])\n",
    "rule6 = ctrl.Rule(magnitudo['sedang'] & jarak_episenter['jauh'], kekuatan_gempa['sangat_kuat'])\n",
    "rule7 = ctrl.Rule(magnitudo['besar'] & jarak_episenter['dekat'], kekuatan_gempa['kuat'])\n",
    "rule8 = ctrl.Rule(magnitudo['besar'] & jarak_episenter['sedang'], kekuatan_gempa['sangat_kuat'])\n",
    "rule9 = ctrl.Rule(magnitudo['besar'] & jarak_episenter['jauh'], kekuatan_gempa['sangat_kuat'])\n"
   ]
  },
  {
   "cell_type": "code",
   "execution_count": 11,
   "id": "043b1d72",
   "metadata": {},
   "outputs": [],
   "source": [
    "# Membuat sistem kontrol fuzzy\n",
    "prediksi_tsunami = ctrl.ControlSystem([rule1, rule2, rule3, rule4, rule5, rule6, rule7, rule8, rule9])\n",
    "prediksi = ctrl.ControlSystemSimulation(prediksi_tsunami)"
   ]
  },
  {
   "cell_type": "code",
   "execution_count": 12,
   "id": "f6ca0213",
   "metadata": {},
   "outputs": [
    {
     "name": "stdout",
     "output_type": "stream",
     "text": [
      "Masukkan magnitudo gempa (0-10): 4\n",
      "Masukkan jarak episenter (km): 2\n"
     ]
    }
   ],
   "source": [
    "# Meminta input dari pengguna\n",
    "magnitudo_input = float(input(\"Masukkan magnitudo gempa (0-10): \"))\n",
    "jarak_episenter_input = float(input(\"Masukkan jarak episenter (km): \"))"
   ]
  },
  {
   "cell_type": "code",
   "execution_count": 16,
   "id": "8f150098",
   "metadata": {},
   "outputs": [],
   "source": [
    "# Set input ke sistem kontrol fuzzy\n",
    "prediksi.input['magnitudo'] = magnitudo_input\n",
    "prediksi.input['jarak_episenter'] = jarak_episenter_input"
   ]
  },
  {
   "cell_type": "code",
   "execution_count": 17,
   "id": "c535f793",
   "metadata": {},
   "outputs": [],
   "source": [
    "# Melakukan perhitungan sistem kontrol fuzzy\n",
    "prediksi.compute()\n"
   ]
  },
  {
   "cell_type": "code",
   "execution_count": 18,
   "id": "c8379499",
   "metadata": {},
   "outputs": [
    {
     "name": "stdout",
     "output_type": "stream",
     "text": [
      "Prediksi kekuatan tsunami: 49.04761904761905\n"
     ]
    }
   ],
   "source": [
    "# Mendapatkan output\n",
    "print(\"Prediksi kekuatan tsunami:\", prediksi.output['kekuatan_gempa'])"
   ]
  },
  {
   "cell_type": "code",
   "execution_count": null,
   "id": "ccaf63a6",
   "metadata": {},
   "outputs": [],
   "source": []
  },
  {
   "cell_type": "code",
   "execution_count": null,
   "id": "b7301dba",
   "metadata": {},
   "outputs": [],
   "source": []
  },
  {
   "cell_type": "code",
   "execution_count": null,
   "id": "8144da0d",
   "metadata": {},
   "outputs": [],
   "source": []
  },
  {
   "cell_type": "code",
   "execution_count": null,
   "id": "f82a1b7e",
   "metadata": {},
   "outputs": [],
   "source": []
  }
 ],
 "metadata": {
  "kernelspec": {
   "display_name": "Python 3 (ipykernel)",
   "language": "python",
   "name": "python3"
  },
  "language_info": {
   "codemirror_mode": {
    "name": "ipython",
    "version": 3
   },
   "file_extension": ".py",
   "mimetype": "text/x-python",
   "name": "python",
   "nbconvert_exporter": "python",
   "pygments_lexer": "ipython3",
   "version": "3.11.2"
  }
 },
 "nbformat": 4,
 "nbformat_minor": 5
}
